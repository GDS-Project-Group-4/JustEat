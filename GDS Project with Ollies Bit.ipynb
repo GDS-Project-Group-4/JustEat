{
 "cells": [
  {
   "cell_type": "code",
   "execution_count": null,
   "metadata": {},
   "outputs": [],
   "source": [
    "import matplotlib.pyplot as plt\n",
    "import pandas as pd\n",
    "import seaborn as sns\n",
    "import numpy as np\n",
    "import json\n",
    "import contextily as c ctx\n",
    "import cartopy.crs ascrs\n",
    "import geopandas as gpd\n",
    "\n",
    "cat = pd.read_csv('isc-gem-cat.csv', sep=',', header=53, na_values=\"\",  parse_dates=[0] )\n",
    "cat.columns = cat.columns.str.strip()"
   ]
  },
  {
   "cell_type": "code",
   "execution_count": null,
   "metadata": {},
   "outputs": [],
   "source": [
    "#import data from JustEat\n",
    "\n",
    "#2018\n",
    "months = [str(i).zfill(2) for i in range(9,13)]\n",
    "df_justeat_2018 = pd.DataFrame()\n",
    "\n",
    "for month in months:\n",
    "    print(month, end='\\r')\n",
    "    url = \"https://data.urbansharing.com/edinburghcyclehire.com/trips/v1/2018/\"+month+\".csv\"\n",
    "    df_tmp = pd.read_csv(url, parse_dates=['started_at'])\n",
    "    df_justeat_2018 = df_justeat_2018.append(df_tmp)\n",
    "df_justeat_2018['started_at','ended_at']= pd.to_datetime(df_justeat_2018['started_at'])\n",
    "\n",
    "    \n",
    "#2019\n",
    "months = [str(i).zfill(2) for i in range(1,13)]\n",
    "df_justeat_2019 = pd.DataFrame()\n",
    "\n",
    "for month in months:\n",
    "    print(month, end='\\r')\n",
    "    url = \"https://data.urbansharing.com/edinburghcyclehire.com/trips/v1/2019/\"+month+\".csv\"\n",
    "    df_tmp = pd.read_csv(url, parse_dates=['started_at'])\n",
    "    df_justeat_2019 = df_justeat_2019.append(df_tmp)\n",
    "df_justeat_2019['started_at','ended_at']= pd.to_datetime(df_justeat_2019['started_at'])\n",
    "\n",
    "#2020\n",
    "months = [str(i).zfill(2) for i in range(1,11)]\n",
    "df_justeat_2020 = pd.DataFrame()\n",
    "\n",
    "for month in months:\n",
    "    print(month, end='\\r')\n",
    "    url = \"https://data.urbansharing.com/edinburghcyclehire.com/trips/v1/2020/\"+month+\".csv\"\n",
    "    df_tmp = pd.read_csv(url, parse_dates=['started_at'])\n",
    "    df_justeat_2020 = df_justeat_2020.append(df_tmp)\n",
    "df_justeat_2020['started_at','ended_at']= pd.to_datetime(df_justeat_2020['started_at'])\n",
    "\n",
    "#Covid Time Period\n",
    "Covid_Months = [str(i).zfill(2) for i in range(3,12)]\n",
    "df_justeat_Covid = pd.DataFrame()\n",
    "\n",
    "for Covid_Month in Covid_Months:\n",
    "    print( Covid_Month, end='\\r')\n",
    "    url_2020 = \"https://data.urbansharing.com/edinburghcyclehire.com/trips/v1/2020/\"+Covid_Month+\".csv\"\n",
    "    tmp = pd.read_csv(url_2020 , parse_dates=['started_at', 'ended_at'])\n",
    "    df_justeat_Covid = df_justeat_Covid.append(tmp)\n",
    "df_justeat_Covid['started_at','ended_at']= pd.to_datetime(df_justeat_Covid['started_at'])"
   ]
  },
  {
   "cell_type": "code",
   "execution_count": null,
   "metadata": {},
   "outputs": [],
   "source": [
    "#Data frame with all data\n",
    "alldata = [df_justeat_2018, df_justeat_2019, df_justeat_2020]\n",
    "df_justeat_total = pd.concat(alldata)"
   ]
  },
  {
   "cell_type": "markdown",
   "metadata": {},
   "source": [
    "# General Trends"
   ]
  },
  {
   "cell_type": "markdown",
   "metadata": {},
   "source": [
    "## 1. Number of Journeys per Day "
   ]
  },
  {
   "cell_type": "code",
   "execution_count": null,
   "metadata": {},
   "outputs": [],
   "source": [
    "#figure 1 - number of trips per day\n",
    "fig, ax = plt.subplots()\n",
    "\n",
    "plot = df_justeat_2018.groupby(df_justeat_2018['started_at'].rename('Date').dt.date).size().plot(figsize=(9,4), label = 2018)\n",
    "plot = df_justeat_2019.groupby(df_justeat_2019['started_at'].rename('Date').dt.date).size().plot(figsize=(9,4), label = 2019)\n",
    "plot = df_justeat_2020.groupby(df_justeat_2020['started_at'].rename('Date').dt.date).size().plot(figsize=(9,4), label = 2020)\n",
    "plot.set_ylabel(\"Number of Journeys Per Day\")\n",
    "plot.legend()"
   ]
  },
  {
   "cell_type": "markdown",
   "metadata": {},
   "source": [
    "The graph above (figure 1) shows the number of daily journeys since the company began back in September 2018. Overall the graph shows a clear increase in daily number of journeys over the 26 months. It also shows clear peaks in summer months which is as expected due to the weather being warmer and there being longer hours of day light. There is also a significant peak between June 2020 and July 2020 which we will explore later, and its possible link to COVID-19. "
   ]
  },
  {
   "cell_type": "markdown",
   "metadata": {},
   "source": [
    "## 2. Average Number of Journeys per Day"
   ]
  },
  {
   "cell_type": "code",
   "execution_count": null,
   "metadata": {},
   "outputs": [],
   "source": [
    "df_justeat_2018['started_at'] = df_justeat_2018['started_at'].map(lambda x: x.date())\n",
    "# Create a Group by object using tripdate\n",
    "grp_date_2018 = df_justeat_2018.groupby('started_at')\n",
    "\n",
    "# Compute number of trips by date and check out the result\n",
    "trips_by_date_2018 = pd.DataFrame(grp_date_2018.size(), columns=['num_trips'])\n",
    "\n",
    "print(trips_by_date_2018)"
   ]
  },
  {
   "cell_type": "code",
   "execution_count": null,
   "metadata": {},
   "outputs": [],
   "source": [
    "#average number of trips per day in 2018\n",
    "average_2018 = trips_by_date_2018['num_trips'].mean()\n",
    "print(average_2018)"
   ]
  },
  {
   "cell_type": "code",
   "execution_count": null,
   "metadata": {},
   "outputs": [],
   "source": [
    "df_justeat_2019['started_at'] = df_justeat_2019['started_at'].map(lambda x: x.date())\n",
    "# Create a Group by object using tripdate\n",
    "grp_date_2019 = df_justeat_2019.groupby('started_at')\n",
    "\n",
    "# Compute number of trips by date and check out the result\n",
    "trips_by_date_2019 = pd.DataFrame(grp_date_2019.size(), columns=['num_trips'])\n"
   ]
  },
  {
   "cell_type": "code",
   "execution_count": null,
   "metadata": {},
   "outputs": [],
   "source": [
    "#average number of trips per day in 2019\n",
    "average_2019 = trips_by_date_2019['num_trips'].mean()\n",
    "print(average_2019)"
   ]
  },
  {
   "cell_type": "code",
   "execution_count": null,
   "metadata": {},
   "outputs": [],
   "source": [
    "df_justeat_2020['started_at'] = df_justeat_2020['started_at'].map(lambda x: x.date())\n",
    "# Create a Group by object using tripdate\n",
    "grp_date_2020 = df_justeat_2020.groupby('started_at')\n",
    "\n",
    "# Compute number of trips by date and check out the result\n",
    "trips_by_date_2020 = pd.DataFrame(grp_date_2020.size(), columns=['num_trips'])\n"
   ]
  },
  {
   "cell_type": "code",
   "execution_count": null,
   "metadata": {},
   "outputs": [],
   "source": [
    "#average number of trips per day in 2019\n",
    "average_2020 = trips_by_date_2020['num_trips'].mean()\n",
    "print(average_2020)"
   ]
  },
  {
   "cell_type": "code",
   "execution_count": null,
   "metadata": {},
   "outputs": [],
   "source": [
    "#percentage increases in average trip numbers per day between years\n",
    "increase_2018_to_2019 = ((average_2019 - average_2018)/average_2018)*100\n",
    "print(round(increase_2018_to_2019, 2), \"%\")\n",
    "increase_2019_to_2020 = ((average_2020 - average_2019)/average_2019)*100\n",
    "print(round(increase_2019_to_2020,2), \"%\")\n",
    "increase_2018_to_2020 = ((average_2020 - average_2018)/average_2018)*100\n",
    "print(round(increase_2018_to_2020, 2), \"%\")"
   ]
  },
  {
   "cell_type": "markdown",
   "metadata": {},
   "source": [
    "Looking at the average number of trips per day in each of the 3 years we can see there has been a significant increase. In 2018 the average number of trips per day was 131, which then increased by 160.82% to an average of 341 in 2019. This number then increased by a further 104.83% to 2020 where the current average number of trips per day sits at 699. Overall there was a 434.24% between 2018 and 2020, showing the business is growing in popularity year on year. "
   ]
  },
  {
   "cell_type": "markdown",
   "metadata": {},
   "source": [
    "## 3. Duration of Journeys"
   ]
  },
  {
   "cell_type": "code",
   "execution_count": null,
   "metadata": {},
   "outputs": [],
   "source": [
    "df_justeat_total['duration_in_mins'] = df_justeat_total['duration']/60\n",
    "\n",
    "df_justeat_total['duration_in_mins'].plot.hist(bins =5000)\n",
    "plt.title(\"Histogram of Journey Durations\")\n",
    "plt.xlabel('Duration')\n",
    "plt.xlim([0,150])\n",
    "plt.tight_layout()"
   ]
  },
  {
   "cell_type": "code",
   "execution_count": null,
   "metadata": {},
   "outputs": [],
   "source": [
    "print(df_justeat_total['duration_in_mins'].describe())"
   ]
  },
  {
   "cell_type": "markdown",
   "metadata": {},
   "source": [
    "The data on journey durations shows that most people are using the bikes for journeys between 10 and 42 minutes, with the average journey being around 19 minutes. This data suggests that JustEat should be focussing on getting people to replace bus, car, or tram commutes with cycling. In 19 minutes the average commuter cyclist could travel between 3.5 miles and 5.7 miles (bikecommuterhero), which could get you all the way out to Sightgill industrial park (5.4 miles). This commute by tram would take around 16 minutes (google maps), which is very comparable. If JustEat can promote businesses to incentivise workers to cycle to work rather than drive or take public transport this could really benefit the business. We will look into commuter routes more specifically later. "
   ]
  },
  {
   "cell_type": "markdown",
   "metadata": {},
   "source": [
    "## 4. Electric Bikes"
   ]
  },
  {
   "cell_type": "markdown",
   "metadata": {},
   "source": [
    "The introduction of electric bikes occured on 2nd March 2020, 160 were introduced at first with the cost being the same for the first 2 weeks of use. After March 16th they cost an additional 10p per minute than the regular bikes. Due to the data making no indication on whether or not the trip uses an e-bike, we are first going to compare the time taken to complete a trip before March 2nd, and after March 2nd.  The trip we are looking at is from Meadows East Station to Dundee Terrace, which is around 1.8 miles. We have chosen this trip in particular because it is a well used route both before and after the introduction of electric bikes. "
   ]
  },
  {
   "cell_type": "code",
   "execution_count": null,
   "metadata": {},
   "outputs": [],
   "source": [
    "# make a bool column with True if March 2020 or later, or False if before March 2020 (before covid-19 rise)\n",
    "df_justeat_total['after_ebikes'] = df_justeat_total.started_at.dt.date >= pd.to_datetime('2020-03-02')\n",
    "# convert column from bool to string\n",
    "df_justeat_total = df_justeat_total.replace({True: 'TRUE', False: 'FALSE'}) \n"
   ]
  },
  {
   "cell_type": "code",
   "execution_count": null,
   "metadata": {},
   "outputs": [],
   "source": [
    "#select duration, start station, and end station\n",
    "journey_time = df_justeat_total[['duration_in_mins', 'start_station_name', 'end_station_name', 'after_ebikes']]\n",
    "#merge columns to find routes\n",
    "journey_time['route'] = journey_time['start_station_name'] + journey_time['end_station_name'] + journey_time['after_ebikes']\n",
    "#select only routes from Meadows East to Kings Buildings and creating histogram\n",
    "mask = journey_time['route'] == 'Meadows EastDundee TerraceFALSE'\n",
    "\n",
    "journey_time[mask]['duration_in_mins'].plot.hist(figsize = (9,5), bins=500, label = \"before e-bikes\")\n",
    "plt.title(\"Histogram of journey durations from Meadows East to Dundee Terrace before e-bikes\")\n",
    "plt.xlabel('Duration')\n",
    "plt.xlim([0,70])\n",
    "plt.legend()\n",
    "plt.tight_layout()\n",
    "\n",
    "#select duration, start station, and end station\n",
    "journey_time = df_justeat_total[['duration', 'start_station_name', 'end_station_name', 'after_ebikes']]\n",
    "#convert duration in seconds to minutes\n",
    "journey_time['duration_in_mins'] = journey_time['duration'].div(60)\n",
    "#merge columns to find routes\n",
    "journey_time['route'] = journey_time['start_station_name'] + journey_time['end_station_name'] + journey_time['after_ebikes']\n",
    "#select only routes from Pollock Halls to Kings Buildings and creating histogram\n",
    "mask = journey_time['route'] == 'Meadows EastDundee TerraceTRUE'\n",
    "\n",
    "journey_time[mask]['duration_in_mins'].plot.hist(figsize = (9,5), bins=100, alpha = 0.5, label = \"after e-bikes\")\n",
    "plt.title(\"Histogram of journey durations from Meadows East to Dundee Terrace after e-bikes\")\n",
    "plt.xlabel('Duration')\n",
    "plt.xlim([0,80])\n",
    "plt.legend()\n",
    "plt.tight_layout()\n"
   ]
  },
  {
   "cell_type": "markdown",
   "metadata": {},
   "source": [
    "Comparing the 2 histograms we can see that the mode for both lie between 10 and 20 minutes. However I think it is clear to see that after the introduction of e-bikes the journey time has become quicker, with a smaller proportion of journeys being over 20 minutes. \n",
    "For the business this may be a good piece of data to use to show how this route and other routes have become even quicker to use. It is also important to note that there are 3 direct buses between these 2 stations (2,3,33) but their journey time is about 20 minutes - which is very similar if not longer than cycling, as the route by bus isn't as direct. "
   ]
  },
  {
   "cell_type": "markdown",
   "metadata": {},
   "source": [
    "# Effects of Covid 19"
   ]
  },
  {
   "cell_type": "markdown",
   "metadata": {},
   "source": [
    "## 1.\n",
    "\n",
    "### The first thing I'm going to look into is how the usage has changed generally between 2019 and 2020\n",
    "\n",
    "#### To see how Coronavirus has effected I chose some important dates and plotted them, then compared them to the same dates in 2019. The dates i've chosen are\n",
    "\n",
    "- First positive case, 2020-03-01\n",
    "\n",
    "- First fatality, 2020-01-13\n",
    "\n",
    "- Lockdown, 2020-03-23\n",
    "\n",
    "- First weekly reduction in deaths, 2020-05-06\n",
    "\n",
    "- First restrictions eased, 2020-05-06\n",
    "\n",
    "- Travel restrictions eased, 2020-07-10\n",
    "\n",
    "- Schools return, 2020-08-11\n",
    "\n",
    "- University of Edinburgh Returns, 2020-09-14\n",
    "\n",
    "- Pubs closed again, 2020-10-09"
   ]
  },
  {
   "cell_type": "code",
   "execution_count": null,
   "metadata": {},
   "outputs": [],
   "source": [
    "#Converting Data to DateTime\n",
    "df_justeat_2018['started_at','ended_at']= pd.to_datetime(df_justeat_2018['started_at'])\n",
    "df_justeat_2019['started_at','ended_at']= pd.to_datetime(df_justeat_2019['started_at'])\n",
    "df_justeat_2020['started_at','ended_at']= pd.to_datetime(df_justeat_2020['started_at'])\n",
    "df_justeat_Covid['started_at','ended_at']= pd.to_datetime(df_justeat_Covid['started_at'])"
   ]
  },
  {
   "cell_type": "code",
   "execution_count": null,
   "metadata": {},
   "outputs": [],
   "source": [
    "#Dictionary of Key Dates\n",
    "\n",
    "                #Covid Dates\n",
    "covid_dates  = {'First positive case': pd.to_datetime('2020-03-01'),\n",
    "              'First Fatality': pd.to_datetime('2020-03-13'),\n",
    "              'Lockdown': pd.to_datetime('2020-03-23'),\n",
    "              'First weekly reduction in deaths': pd.to_datetime('2020-05-06'),\n",
    "              'First Restrictions Eased':pd.to_datetime('2020-05-29'),\n",
    "              'Travel Restricion Lifted':pd.to_datetime('2020-07-10'),\n",
    "              'Schools Return' : pd.to_datetime('2020-08-11'),\n",
    "              'University of Edinburgh Returns': pd.to_datetime('2020-09-14'),\n",
    "              'Pubs Close Again': pd.to_datetime('2020-10-09')}\n",
    "\n",
    "                #Same Dates in 2019\n",
    "date_2019  = {'First positive case': pd.to_datetime('2019-03-01'),\n",
    "              'First Fatality': pd.to_datetime('2019-03-13'),\n",
    "              'Lockdown': pd.to_datetime('2019-03-23'),\n",
    "              'First weekly reduction in deaths': pd.to_datetime('2019-05-06'),\n",
    "              'First Restrictions Eased':pd.to_datetime('2019-05-29'),\n",
    "              'Travel Restricion Lifted':pd.to_datetime('2019-07-10'),\n",
    "              'Schools Return' : pd.to_datetime('2019-08-11'),\n",
    "              'University of Edinburgh Returns': pd.to_datetime('2019-09-14'),\n",
    "              'Pubs Close Again': pd.to_datetime('2019-10-09')}"
   ]
  },
  {
   "cell_type": "code",
   "execution_count": null,
   "metadata": {},
   "outputs": [],
   "source": [
    "#Plotting the Number Rides And Key Coivd Dates Graph\n",
    "fig, ax1 = plt.subplots(1,1, figsize = (30,7))\n",
    "Year_Plot_2020 = df_justeat_2020.groupby(df_justeat_2020['started_at'].rename('Date').dt.date).size().plot(kind=\"line\", legend = False, ax = ax1, label = 'Number of Rides per week')\n",
    "\n",
    "# Plotting the Key Coivd Dates as x lines \n",
    "xcoords = list(covid_dates.values())\n",
    "labels = list(covid_dates.keys())\n",
    "colors = ['red','yellow','green','lime','crimson', 'black', 'blue', 'Indigo', 'Magenta', 'cyan']\n",
    "for xc,lab,c in zip(xcoords,labels, colors):\n",
    "    plt.axvline(x=xc, label=lab.format(xc), color=c, linestyle='--')\n",
    "    plt.text(xc,3000,lab,rotation=90, fontsize = 20)\n",
    "\n",
    "#Setting the Features of the Graph\n",
    "plt.title(\"Trips Per Day, 2020\", fontsize=30)\n",
    "plt.xticks(xcoords, labels = ['March 1','March 13','March 23','May 6','May 29', 'July 10', 'August 11','September 14', 'October 10'], fontsize=16, rotation = 90)\n",
    "plt.xlabel('Date', fontsize=20)\n",
    "plt.ylabel('Number of Rides', fontsize=20)\n",
    "\n",
    "fig, ax2=plt.subplots(1,1, figsize = (30,7))\n",
    "Year_Plot_2019 = df_justeat_2019.groupby(df_justeat_2019['started_at'].rename('Date').dt.date).size().plot(kind=\"line\", legend = False, ax = ax2, label = 'Number of Rides per week' , color ='r')\n",
    "\n",
    "# Plotting the Key Coivd Dates as x lines \n",
    "xcoords = list(date_2019.values())\n",
    "labels = list(date_2019.keys())\n",
    "colors = ['red','yellow','green','lime','crimson', 'black', 'blue', 'Indigo', 'Magenta', 'cyan']\n",
    "for xc,lab,c in zip(xcoords,labels, colors):\n",
    "    plt.axvline(x=xc, label=lab.format(xc), color=c, linestyle='--')\n",
    "\n",
    "#Setting the Features of the Graph\n",
    "plt.title(\"Trips Per Day, 2019\", fontsize=30)\n",
    "plt.xticks(xcoords, labels = ['March 1','March 13','March 23','May 6','May 29', 'July 10', 'August 11','September 14', 'October 10'], fontsize=16, rotation = 90)\n",
    "plt.xlabel('Date', fontsize=20)\n",
    "plt.ylabel('Number of Rides', fontsize=20)\n",
    "\n",
    "plt.tight_layout()"
   ]
  },
  {
   "cell_type": "markdown",
   "metadata": {},
   "source": [
    "## Comparing the Two Daily Usage Graphs\n",
    "Comparing the data displayed in the two graphs above, we can analysis how the general usage of Just Eat bikes has been effected by the Covid-19 pandemic. The fisrt observation we can make is that more bikes were used per day throughout the whole year, there isn't a large enough backlong of data to make a statement as to if the increase is in keeping with what would be predicted;\n",
    "\n",
    "- The first two months of both years have very similar gradients and are much lower than the rest of the year, this is   likely due inclemant weather and not great cycling conditions.\n",
    "\n",
    "- In 2020, once the lockdown was announced the ammount of people using Just Eat bikes drastically dropped to the rates at the start of the year.\n",
    "\n",
    "- Inbetween Mid March and End of April the gradient of the graph is similar in both, a steady constant increase.\n",
    "\n",
    "- The biggest difference between the two years is the period between May and August. In 2020 the ammount of people using Just Eat bikes remained high compared to in 2019 the ammount of people using Just Eat bikes dropped. \n",
    "\n",
    "- In both graphs the ammount of people using the bikes slowly drops off for the rest of the year."
   ]
  },
  {
   "cell_type": "code",
   "execution_count": null,
   "metadata": {},
   "outputs": [],
   "source": [
    "#Creating Data for Pre Covid Start Stations\n",
    "start_station_summary_2019=df_justeat_2019[['start_station_name','start_station_longitude','start_station_latitude']]\n",
    "start_station_summary_2019 = start_station_summary_2019.drop_duplicates()\n",
    "start_trips_starting_pre_covid = df_justeat_2019.groupby('start_station_name')['start_station_name'].count()\n",
    "start_trips_starting_pre_covid = pd.DataFrame(start_trips_starting_pre_covid)\n",
    "start_trips_starting_pre_covid.columns = ['start_trips_starting_pre_covid']\n",
    "start_station_summary_2019 = pd.merge(start_station_summary_2019, start_trips_starting_pre_covid, on='start_station_name')\n",
    "\n",
    "#Creating Data for Pre Covid End Stations\n",
    "end_station_summary_2019=df_justeat_2019[['end_station_name','end_station_longitude','end_station_latitude']]\n",
    "end_station_summary_2019 = end_station_summary_2019.drop_duplicates()\n",
    "end_trips_starting_pre_covid = df_justeat_2019.groupby('end_station_name')['end_station_name'].count()\n",
    "end_trips_starting_pre_covid = pd.DataFrame(end_trips_starting_pre_covid)\n",
    "end_trips_starting_pre_covid.columns = ['end_trips_starting_pre_covid']\n",
    "end_station_summary_2019 = pd.merge(end_station_summary_2019, end_trips_starting_pre_covid, on='end_station_name')"
   ]
  },
  {
   "cell_type": "code",
   "execution_count": null,
   "metadata": {},
   "outputs": [],
   "source": [
    "#Bar Chart for top 10 Start Stations Pre Covid\n",
    "start_Top_Pre_Covid=start_trips_starting_pre_covid.nlargest(10,'start_trips_starting_pre_covid')\n",
    "end_Top_Pre_Covid=end_trips_starting_pre_covid.nlargest(10,'end_trips_starting_pre_covid')\n",
    "\n",
    "fig, ax = plt.subplots(1,2, figsize=(10,5))\n",
    "\n",
    "start_Top_Pre_Covid.plot(ax = ax[0], kind='bar', legend = None)\n",
    "end_Top_Pre_Covid.plot(ax = ax[1], kind='bar', legend = None, color = 'r')\n",
    "\n",
    "\n",
    "ax[0].set_title(\"Most Popular Start Stations Pre Covid\")\n",
    "ax[0].set_xlabel(\"Station Name\")\n",
    "ax[0].set_ylabel(\"Number of Trips per Year\")\n",
    "\n",
    "\n",
    "ax[1].set_title(\"Most Popular Destinations Pre Covid\")\n",
    "ax[1].set_xlabel(\"Station Name\")\n",
    "ax[1].set_ylabel(\"Number of Trips per Year\")\n",
    "\n",
    "plt.tight_layout()\n"
   ]
  },
  {
   "cell_type": "code",
   "execution_count": null,
   "metadata": {},
   "outputs": [],
   "source": [
    "start_Top_Pre_Covid_Summary=start_station_summary_2019.nlargest(10,'start_trips_starting_pre_covid')\n",
    "start_Top_Pre_Covid_Summary_gdf = gpd.GeoDataFrame(start_Top_Pre_Covid_Summary, geometry=gpd.points_from_xy(start_Top_Pre_Covid_Summary[\"start_station_longitude\"],start_Top_Pre_Covid_Summary[\"start_station_latitude\"]))\n",
    "end_Top_Pre_Covid_Summary=end_station_summary_2019.nlargest(10,'end_trips_starting_pre_covid')\n",
    "end_Top_Pre_Covid_Summary_gdf = gpd.GeoDataFrame(end_Top_Pre_Covid_Summary, geometry=gpd.points_from_xy(end_Top_Pre_Covid_Summary[\"end_station_longitude\"],end_Top_Pre_Covid_Summary[\"end_station_latitude\"]))"
   ]
  },
  {
   "cell_type": "code",
   "execution_count": null,
   "metadata": {},
   "outputs": [],
   "source": [
    "start_Top_Pre_Covid_Summary_gdf.crs={'init':'epsg:4326'}\n",
    "f,ax1 = plt.subplots(1, figsize=(250,150))\n",
    "ax1=start_Top_Pre_Covid_Summary_gdf.plot(ax=ax1, alpha=1, markersize=start_Top_Pre_Covid_Summary_gdf[\"start_trips_starting_pre_covid\"], color='b')\n",
    "ax1.set_axis_off()\n",
    "ctx.add_basemap(ax1,crs=start_Top_Pre_Covid_Summary_gdf.crs)\n",
    "plt.show()\n",
    "\n",
    "end_Top_Pre_Covid_Summary_gdf.crs={'init':'epsg:4326'}\n",
    "f,ax2 = plt.subplots(1, figsize=(200,150))\n",
    "ax2=end_Top_Pre_Covid_Summary_gdf.plot(ax=ax2, alpha=1, markersize=end_Top_Pre_Covid_Summary_gdf[\"end_trips_starting_pre_covid\"], color='r')\n",
    "ax2.set_axis_off()\n",
    "ctx.add_basemap(ax2,crs=end_Top_Pre_Covid_Summary_gdf.crs)\n",
    "plt.show()"
   ]
  },
  {
   "cell_type": "markdown",
   "metadata": {},
   "source": [
    "## Analizing the most popular Start and End stations Pre Covid \n",
    "### Start Stations\n",
    "Pre covid the 2 most poplular start stations were Bristo Square and St Andrews Square, both are in the heart of the University of Edinburgh Campus. These are popular as may students don't own bikes and use the bikes to travel from the station. Other popular start stations were located near to tourist destinations, such as; Cannonmills, Portobello, Dundee Terrace and Meadows East. The final few popular stations were located near to commercial areas such as; Charlotte Square, St Andrews square and Castle Street. \n",
    "### End Stations\n",
    "The only changes between the start and end destinations are the stations; Leith Walk and Dudly gardens. Leith walk is at the bottom of a large hill, inturn customers will cycle down the hill but are more likely to use other forms of transport to get back up the hill. "
   ]
  },
  {
   "cell_type": "code",
   "execution_count": null,
   "metadata": {},
   "outputs": [],
   "source": [
    "#Creating Data for Covid Start Stations\n",
    "start_station_summary=df_justeat_Covid[['start_station_name','start_station_longitude','start_station_latitude']]\n",
    "start_station_summary = start_station_summary.drop_duplicates()\n",
    "start_trips_starting_post_covid = df_justeat_Covid.groupby('start_station_name')['start_station_name'].count()\n",
    "start_trips_starting_post_covid = pd.DataFrame(start_trips_starting_post_covid)\n",
    "start_trips_starting_post_covid.columns = ['start_trips_starting_post_covid']\n",
    "start_station_summary = pd.merge(start_station_summary, start_trips_starting_post_covid, on='start_station_name')\n",
    "print\n",
    "#Creating Data for Covid End Stations\n",
    "end_station_summary=df_justeat_Covid[['end_station_name','end_station_longitude','end_station_latitude']]\n",
    "end_station_summary = end_station_summary.drop_duplicates()\n",
    "end_trips_starting_post_covid = df_justeat_Covid.groupby('end_station_name')['end_station_name'].count()\n",
    "end_trips_starting_post_covid = pd.DataFrame(end_trips_starting_post_covid)\n",
    "end_trips_starting_post_covid.columns = ['end_trips_starting_post_covid']\n",
    "end_station_summary = pd.merge(end_station_summary, end_trips_starting_post_covid, on='end_station_name')"
   ]
  },
  {
   "cell_type": "code",
   "execution_count": null,
   "metadata": {},
   "outputs": [],
   "source": [
    "start_Top_Post_Covid=start_trips_starting_post_covid.nlargest(10,'start_trips_starting_post_covid')\n",
    "end_Top_Post_Covid=end_trips_starting_post_covid.nlargest(10,'end_trips_starting_post_covid')\n",
    "\n",
    "fig, ax = plt.subplots(1,2, figsize=(10,5))\n",
    "\n",
    "start_Top_Post_Covid.plot(ax = ax[0], kind='bar', legend = None)\n",
    "end_Top_Post_Covid.plot(ax = ax[1], kind='bar', legend = None, color = 'r')\n",
    "\n",
    "\n",
    "ax[0].set_title(\"Most Popular Start Stations Post Covid\")\n",
    "ax[0].set_xlabel(\"Station Name\")\n",
    "ax[0].set_ylabel(\"Number of Trips per Year\")\n",
    "\n",
    "\n",
    "ax[1].set_title(\"Most Popular Destinations Post Covid\")\n",
    "ax[1].set_xlabel(\"Station Name\")\n",
    "ax[1].set_ylabel(\"Number of Trips per Year\")\n",
    "\n",
    "plt.tight_layout()\n"
   ]
  },
  {
   "cell_type": "code",
   "execution_count": null,
   "metadata": {},
   "outputs": [],
   "source": [
    "start_Top_Post_Covid_Summary=start_station_summary.nlargest(10,'start_trips_starting_post_covid')\n",
    "start_Top_Post_Covid_Summary_gdf = gpd.GeoDataFrame(start_Top_Post_Covid_Summary, geometry=gpd.points_from_xy(start_Top_Post_Covid_Summary[\"start_station_longitude\"],start_Top_Post_Covid_Summary[\"start_station_latitude\"]))\n",
    "\n",
    "end_Top_Post_Covid_Summary=end_station_summary.nlargest(10,'end_trips_starting_post_covid')\n",
    "end_Top_Post_Covid_Summary_gdf = gpd.GeoDataFrame(end_Top_Post_Covid_Summary, geometry=gpd.points_from_xy(end_Top_Post_Covid_Summary[\"end_station_longitude\"],end_Top_Post_Covid_Summary[\"end_station_latitude\"]))"
   ]
  },
  {
   "cell_type": "code",
   "execution_count": null,
   "metadata": {},
   "outputs": [],
   "source": [
    "start_Top_Post_Covid_Summary_gdf.crs={'init':'epsg:4326'}\n",
    "f,ax1 = plt.subplots(1, figsize=(250,100))\n",
    "ax1 = start_Top_Post_Covid_Summary_gdf.plot( ax = ax1, alpha = 1, markersize=start_Top_Post_Covid_Summary_gdf[\"start_trips_starting_post_covid\"], color = 'b' )\n",
    "ax1.set_axis_off()\n",
    "ctx.add_basemap(ax1, crs= start_Top_Post_Covid_Summary_gdf.crs)\n",
    "plt.show()\n",
    "\n",
    "end_Top_Post_Covid_Summary_gdf.crs={'init':'epsg:4326'}\n",
    "f,ax2 = plt.subplots(1, figsize=(250,100))\n",
    "ax2 = end_Top_Post_Covid_Summary_gdf.plot( ax = ax2, alpha = 1, markersize=end_Top_Post_Covid_Summary_gdf[\"end_trips_starting_post_covid\"], color = 'r' )\n",
    "ax2.set_axis_off()\n",
    "ctx.add_basemap(ax2, crs= end_Top_Post_Covid_Summary_gdf.crs)\n",
    "plt.show()"
   ]
  },
  {
   "cell_type": "markdown",
   "metadata": {},
   "source": [
    "## Analizing the most popular Start and End stations Post Covid \n",
    "### Changes due to Covid\n",
    "In general there has been a large shift in the most popular stations, shifting away from the cit centre and large shopping districts to areas on the outskirts of the city or areas in large green spaces. This is due to the Covid restrictions meaning commuters are no longer traveling into the city and people are looking for day trips out of the city.\n",
    "- The University Stations don't feature in the top 10 anymore, this is due to the decrease in student having to travel to and from the campus. \n",
    "- The Meadows stations have remaind popular to their location next to a large green space that is used for sport and socialising \n",
    "- A new Stop to feature is Cramond Foreshore, this stop is located on the sea front and the outskirts of the city. This fit right into the new consumer bases of scenic spots on the outskirts of the city"
   ]
  },
  {
   "cell_type": "markdown",
   "metadata": {},
   "source": [
    "## Suggested Improvements\n",
    "\n",
    "- There are very few stations around the South East of Arthurs Seat, therefore I would recommend you add a stop in Duddingston Village. This stop would be located at the base of Arthurs seat which is a large open area that people are likely to travel to get exercise and escape the confines of their own home.\n",
    "\n",
    "- Due to the popularity of the University Stations in the past I would recommend adding a station at Peffermill. The people who use peffermill are sporty people who are likely to use bikes to get to and from peffermill. Even though students aren't using the main University Site as much, a large quantity of students are still playing sports at Peffermill. \n",
    "\n",
    "- I would add a station at Braid Hill as this is a large outdoor area with lots of walk trails, there currently isnt a station near here so expanding would increase the company's catchment "
   ]
  }
 ],
 "metadata": {
  "kernelspec": {
   "display_name": "Python 3",
   "language": "python",
   "name": "python3"
  },
  "language_info": {
   "codemirror_mode": {
    "name": "ipython",
    "version": 3
   },
   "file_extension": ".py",
   "mimetype": "text/x-python",
   "name": "python",
   "nbconvert_exporter": "python",
   "pygments_lexer": "ipython3",
   "version": "3.7.6"
  }
 },
 "nbformat": 4,
 "nbformat_minor": 4
}
